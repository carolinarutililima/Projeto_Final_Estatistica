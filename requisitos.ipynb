{
 "cells": [
  {
   "cell_type": "markdown",
   "metadata": {},
   "source": [
    "# Trabalho\n",
    "\n",
    "## Entrega\n",
    "- Trabalho entrega até 1 dia depois do último dia de aula (09/04)\n",
    "- Grupo de 5 pessoas no máximo\n",
    "- Entrega por e-mail: hermeto.lucas@gmail.com - Só uma pessoa do grupo\n",
    "- Formato: zip (.ipynb, dados) ou link git\n",
    "\n",
    "## Descrição\n",
    "\n",
    "1. Entender o problema (objetivo)\n",
    "    - O que você gostaria de saber?\n",
    "    - Dicas para criar uma hipótese: Escolher apenas uma variável para observar, definir uma mudança (aumento e diminuição)\n",
    "    - Criar uma hipótese que é possível responder com os dados. Ex: Gostaria de entender se as vendas em uma loja teve um aumento significativo (intervalo de confiança de 95%) durante o Q1 de 2021 e o Q1 de 2022 para que assim eu consiga inferir que as melhorias foram de fato um aumento orgânico ou um aumento por trazer mais pessoas que gastam. **Hipótese**: Houve uma mudança nas vendas de Q1 de 2021 e Q1 de 2022\n",
    "\n",
    "2. Entender os dados (usar a estatística para isso)\n",
    "    - Como foram coletado os dados?\n",
    "    - Quais foram as intenções da coleta dos dados (Trabalhos relacionados)?\n",
    "    - Descrever as colunas: Quais dados elas contém, o tipo de dado, existe alguma regra de negócio?\n",
    "    - Tem dado faltante? Precisamos limpar/substituir esses dados?\n",
    "    - Definir a variável aleatória que deseja observar\n",
    "    - Calcular média, mediana, desvio padrão, quartis, percentis, assimetria, moda, correlação\n",
    "        - Não é necessário calcular a média de todas as variáveis, explicar porque calcula e a importância de usar ela na sua hipótese\n",
    "        - Faça ao menos uma Correlação e explique como esses dados podem auxiliar na tomada de decisão\n",
    "    - Identificar os outliers\n",
    "    - Criar gráficos para fazer a visualização dos dados\n",
    "\n",
    "3. Limpar os dados (preparar os dados)\n",
    "\n",
    "4. Conclusão sobre os dados\n",
    "    - Concluir a hipótese analisada e como isso afeta a sua definição de problema?"
   ]
  },
  {
   "cell_type": "markdown",
   "metadata": {},
   "source": []
  }
 ],
 "metadata": {
  "kernelspec": {
   "display_name": "Python 3",
   "language": "python",
   "name": "python3"
  },
  "language_info": {
   "codemirror_mode": {
    "name": "ipython",
    "version": 3
   },
   "file_extension": ".py",
   "mimetype": "text/x-python",
   "name": "python",
   "nbconvert_exporter": "python",
   "pygments_lexer": "ipython3",
   "version": "3.11.9"
  }
 },
 "nbformat": 4,
 "nbformat_minor": 2
}
